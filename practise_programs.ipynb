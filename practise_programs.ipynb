{
  "nbformat": 4,
  "nbformat_minor": 0,
  "metadata": {
    "colab": {
      "provenance": []
    },
    "kernelspec": {
      "name": "python3",
      "display_name": "Python 3"
    },
    "language_info": {
      "name": "python"
    }
  },
  "cells": [
    {
      "cell_type": "markdown",
      "source": [],
      "metadata": {
        "id": "ScCiqACkNBJY"
      }
    },
    {
      "cell_type": "code",
      "execution_count": 43,
      "metadata": {
        "colab": {
          "base_uri": "https://localhost:8080/"
        },
        "id": "RCbaMVgLM8u9",
        "outputId": "55f1cf28-7df3-4d03-d421-b52597419dac"
      },
      "outputs": [
        {
          "output_type": "stream",
          "name": "stdout",
          "text": [
            "2002,2009,2016,2023,2037,2044,2051,2058,2072,2079,2086,2093,2107,2114,2121,2128,2142,2149,2156,2163,2177,2184,2191,2198,2212,2219,2226,2233,2247,2254,2261,2268,2282,2289,2296,2303,2317,2324,2331,2338,2352,2359,2366,2373,2387,2394,2401,2408,2422,2429,2436,2443,2457,2464,2471,2478,2492,2499,2506,2513,2527,2534,2541,2548,2562,2569,2576,2583,2597,2604,2611,2618,2632,2639,2646,2653,2667,2674,2681,2688,2702,2709,2716,2723,2737,2744,2751,2758,2772,2779,2786,2793,2807,2814,2821,2828,2842,2849,2856,2863,2877,2884,2891,2898,2912,2919,2926,2933,2947,2954,2961,2968,2982,2989,2996,3003,3017,3024,3031,3038,3052,3059,3066,3073,3087,3094,3101,3108,3122,3129,3136,3143,3157,3164,3171,3178,3192,3199\n"
          ]
        }
      ],
      "source": [
        "#program 1\n",
        "\n",
        "num=[]\n",
        "for i in range(2000,3201):\n",
        "    if (i%7==0 and i%5!=0):\n",
        "        num.append(str(i))\n",
        "\n",
        "print(\",\".join(num))"
      ]
    },
    {
      "cell_type": "code",
      "source": [
        "#program 2\n",
        "\n",
        "n=int(input(\"enter n value :\"))\n",
        "dict={i:i**2 for i in range(1,n+1)}\n",
        "print(dict)"
      ],
      "metadata": {
        "colab": {
          "base_uri": "https://localhost:8080/"
        },
        "id": "Vee36GK4NDkR",
        "outputId": "54811216-92ab-4e5c-fac6-4bd994f014bc"
      },
      "execution_count": 44,
      "outputs": [
        {
          "output_type": "stream",
          "name": "stdout",
          "text": [
            "enter n value :8\n",
            "{1: 1, 2: 4, 3: 9, 4: 16, 5: 25, 6: 36, 7: 49, 8: 64}\n"
          ]
        }
      ]
    },
    {
      "cell_type": "code",
      "source": [
        "# program 3\n",
        "\n",
        "n=list(input(\"enter comma separted values=\").split(','))\n",
        "print(n)\n",
        "print(tuple(n))"
      ],
      "metadata": {
        "colab": {
          "base_uri": "https://localhost:8080/"
        },
        "id": "MDVeArDfNFr6",
        "outputId": "f201b103-d663-436c-eb22-9afc83677355"
      },
      "execution_count": 45,
      "outputs": [
        {
          "output_type": "stream",
          "name": "stdout",
          "text": [
            "enter comma separted values=2,3,4,5\n",
            "['2', '3', '4', '5']\n",
            "('2', '3', '4', '5')\n"
          ]
        }
      ]
    },
    {
      "cell_type": "code",
      "source": [
        "#program 4\n",
        "\n",
        "class main:\n",
        "\n",
        "    def __inti__(self):\n",
        "        self.string\n",
        "\n",
        "    def get_string(self):\n",
        "         self.string=input(\"enter string=\")\n",
        "\n",
        "    def print_in_uppercase(self):\n",
        "        print(\"upper case = \",self.string.upper())\n",
        "\n",
        "\n",
        "obj=main()\n",
        "obj.get_string()\n",
        "obj.print_in_uppercase()"
      ],
      "metadata": {
        "colab": {
          "base_uri": "https://localhost:8080/"
        },
        "id": "qCR9SJqhNHwY",
        "outputId": "0fd54c8b-5160-4425-cd70-f71a9a851b69"
      },
      "execution_count": 46,
      "outputs": [
        {
          "output_type": "stream",
          "name": "stdout",
          "text": [
            "enter string=ganesh\n",
            "upper case =  GANESH\n"
          ]
        }
      ]
    },
    {
      "cell_type": "code",
      "source": [
        "#program 5\n",
        "\n",
        "list1=input(\"enter comma seperated word\").split(',')\n",
        "\n",
        "print(sorted(list1))"
      ],
      "metadata": {
        "colab": {
          "base_uri": "https://localhost:8080/"
        },
        "id": "ey2b-14BNJ6X",
        "outputId": "15f8a7c9-ccaa-467f-a52f-9acf60a0cf90"
      },
      "execution_count": 47,
      "outputs": [
        {
          "output_type": "stream",
          "name": "stdout",
          "text": [
            "enter comma seperated wordganesg,bestha\n",
            "['bestha', 'ganesg']\n"
          ]
        }
      ]
    },
    {
      "cell_type": "code",
      "source": [
        "#program 6\n",
        "\n",
        "s=input(\"enter string :\").split()\n",
        "print(\" \".join(sorted(set(s))))"
      ],
      "metadata": {
        "colab": {
          "base_uri": "https://localhost:8080/"
        },
        "id": "BQ4p2DBfNNKT",
        "outputId": "1f1e8e5d-ef63-4b43-9439-fa62fa31848c"
      },
      "execution_count": 48,
      "outputs": [
        {
          "output_type": "stream",
          "name": "stdout",
          "text": [
            "hello world and practice makes perfect and hello world again\n",
            "again and hello makes perfect practice world\n"
          ]
        }
      ]
    },
    {
      "cell_type": "code",
      "source": [
        "#program 7\n",
        "\n",
        "for i in range(1000,3001):\n",
        "    l=list(str(i))\n",
        "    for j in l:\n",
        "      if int(j)%2!=0:\n",
        "        break\n",
        "    else:\n",
        "      print(i)"
      ],
      "metadata": {
        "id": "L0P3JmTyNPMM"
      },
      "execution_count": null,
      "outputs": []
    },
    {
      "cell_type": "code",
      "source": [
        "odd=['1','3','5','7','9']\n",
        "for i in range(1000,3001):\n",
        "    for j in odd:\n",
        "      if j in str(i):\n",
        "        break\n",
        "    else:\n",
        "      print(i)"
      ],
      "metadata": {
        "id": "AILCUxYENaz2"
      },
      "execution_count": null,
      "outputs": []
    },
    {
      "cell_type": "code",
      "source": [
        "#program 8\n",
        "\n",
        "s=input(\"enter string:\")\n",
        "lower,upper = 0,0\n",
        "for i in s:\n",
        "  if i.islower():\n",
        "    lower+=1\n",
        "  elif i.isupper():\n",
        "    upper+=1\n",
        "\n",
        "print(\"UPPER CASE \",upper)\n",
        "print(\"LOWER CASE \",lower)"
      ],
      "metadata": {
        "colab": {
          "base_uri": "https://localhost:8080/"
        },
        "id": "Ttp2emYSOBre",
        "outputId": "1349aa23-5d3a-4938-cbb3-d979b2d7fd7a"
      },
      "execution_count": 51,
      "outputs": [
        {
          "output_type": "stream",
          "name": "stdout",
          "text": [
            "enter string:ganehs BetsyaHaH\n",
            "UPPER CASE  3\n",
            "LOWER CASE  12\n"
          ]
        }
      ]
    },
    {
      "cell_type": "code",
      "source": [
        "# program 9\n",
        "\n",
        "def satisfied(i):\n",
        "\n",
        "  small=False\n",
        "  capital=False\n",
        "  num=False\n",
        "  special=False\n",
        "\n",
        "  for j in i:\n",
        "\n",
        "    if j.islower():\n",
        "      small=True\n",
        "\n",
        "    elif j.isupper():\n",
        "      capital=True\n",
        "\n",
        "    elif j in '1234567890':\n",
        "      num=True\n",
        "\n",
        "    elif j in '$#@':\n",
        "      special=True\n",
        "\n",
        "  return (small and capital and num and special)\n",
        "\n",
        "\n",
        "passwrod='ABd1234@1,a F1#,2w3E*,2We3345'\n",
        "accepted=[]\n",
        "for i in passwrod.split(','):\n",
        "  if len(i)>=6 and len(i)<=12 and satisfied(i):\n",
        "    accepted.append(i)\n",
        "\n",
        "print(\",\".join(accepted))"
      ],
      "metadata": {
        "colab": {
          "base_uri": "https://localhost:8080/"
        },
        "id": "T3G5_r11O75t",
        "outputId": "a94cf80f-1dc9-42d3-eea8-4a5aaaf790a2"
      },
      "execution_count": 41,
      "outputs": [
        {
          "output_type": "stream",
          "name": "stdout",
          "text": [
            "ABd1234@1\n"
          ]
        }
      ]
    }
  ]
}