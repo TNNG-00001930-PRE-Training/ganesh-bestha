{
  "nbformat": 4,
  "nbformat_minor": 0,
  "metadata": {
    "colab": {
      "provenance": []
    },
    "kernelspec": {
      "name": "python3",
      "display_name": "Python 3"
    },
    "language_info": {
      "name": "python"
    }
  },
  "cells": [
    {
      "cell_type": "code",
      "source": [
        "import random\n",
        "Chances=0\n",
        "while True:\n",
        "  number=random.randint(1,100)\n",
        "  guess = 0\n",
        "  go_no=None\n",
        "  while (guess != number) and Chances !=7:\n",
        "    if guess == 0:\n",
        "\n",
        "      guess=int(input(\"guess a number in betweeen 1 to 100 :\"))\n",
        "      while True:\n",
        "        try:\n",
        "          if 1 >guess or guess>100:\n",
        "            print(\"ERROR : Number is out of range\")\n",
        "            raise ValueError()\n",
        "        except ValueError as e:\n",
        "          guess=int(input(\"enter a number between 1 to 100 only :\") )\n",
        "        if 1 <=guess and guess<=100:\n",
        "          break\n",
        "\n",
        "    elif guess >number:\n",
        "      print(\"you, guessed it high ,guess a smaller number.\")\n",
        "      while True:\n",
        "        try:\n",
        "          guess=int(input(\"guess a smaller number than this {} :\".format(guess)))\n",
        "          if 1 >guess or guess>100:\n",
        "            print(\"ERROR : Number is out of range\")\n",
        "            raise ValueError()\n",
        "        except ValueError as e:\n",
        "          guess=int(input(\"enter a number between 1 to 100 only :\") )\n",
        "        if 1 <=guess and guess<=100:\n",
        "          break\n",
        "\n",
        "    elif guess <number:\n",
        "      print(\"you, guessed it lower ,guess a bigger number.\")\n",
        "      while True:\n",
        "        try:\n",
        "          guess=int(input(\"guess a bigger number than this {} :\".format(guess)))\n",
        "          if 1 >guess or guess>100:\n",
        "            print(\"ERROR : Number is out of range\")\n",
        "            raise ValueError()\n",
        "        except ValueError as e:\n",
        "          guess=int(input(\"enter a number between 1 to 100 only :\") )\n",
        "        if 1 <=guess and guess<=100:\n",
        "          break\n",
        "\n",
        "    Chances += 1\n",
        "\n",
        "    if guess == number:\n",
        "      print(\"congrats you guessed it correct!\")\n",
        "\n",
        "    elif Chances == 7:\n",
        "      print(\"You are out of chances:\")\n",
        "    else:\n",
        "      print(\"you are left with {} chances\".format(7-Chances))\n",
        "\n",
        "  while True:\n",
        "    go_on=input(\"do you to continue yes or no :\")\n",
        "\n",
        "    try:\n",
        "      if go_on not in ['no','NO','No','n','N','yes','YES','Yes','YEs','y','Y']:\n",
        "        raise ValueError(\"invalid input\")\n",
        "      else:\n",
        "        break\n",
        "    except ValueError as e:\n",
        "      print(\"ERROR : {} ,please enter yes or no\".format(e))\n",
        "\n",
        "  if go_on in ['no','NO','No','n','N']:\n",
        "    print(\"Thanks for playing!!!\")\n",
        "    break"
      ],
      "metadata": {
        "id": "hK0Wj0qSmNwR"
      },
      "execution_count": null,
      "outputs": []
    }
  ]
}